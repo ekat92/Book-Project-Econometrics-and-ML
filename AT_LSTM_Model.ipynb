{
  "nbformat": 4,
  "nbformat_minor": 0,
  "metadata": {
    "colab": {
      "name": "AT-LSTM_Model.ipynb",
      "provenance": [],
      "authorship_tag": "ABX9TyNRa1E39GscA6yY0oAPECrL",
      "include_colab_link": true
    },
    "kernelspec": {
      "name": "python3",
      "display_name": "Python 3"
    },
    "language_info": {
      "name": "python"
    }
  },
  "cells": [
    {
      "cell_type": "markdown",
      "metadata": {
        "id": "view-in-github",
        "colab_type": "text"
      },
      "source": [
        "<a href=\"https://colab.research.google.com/github/ekat92/Book-Project-Econometrics-and-ML/blob/at-lstm/AT_LSTM_Model.ipynb\" target=\"_parent\"><img src=\"https://colab.research.google.com/assets/colab-badge.svg\" alt=\"Open In Colab\"/></a>"
      ]
    },
    {
      "cell_type": "code",
      "execution_count": 1,
      "metadata": {
        "id": "SY_1Gcv_csmS"
      },
      "outputs": [],
      "source": [
        "# AT-LSTM_Model\n",
        "# Author: Chris Zhu\n",
        "# Version: 1.1 (17.12.2020)\n",
        "# License: MIT\n",
        "# Email: yzhu22@colby.edu\n",
        "# Notes: tested on Mac OS X with Python 3.6 and Tensorflow 2.2 Keras 2.3.1"
      ]
    },
    {
      "cell_type": "code",
      "source": [
        ""
      ],
      "metadata": {
        "id": "wOvlFw3Jcz7A"
      },
      "execution_count": null,
      "outputs": []
    }
  ]
}