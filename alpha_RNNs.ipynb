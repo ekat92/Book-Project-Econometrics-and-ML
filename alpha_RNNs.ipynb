{
  "nbformat": 4,
  "nbformat_minor": 0,
  "metadata": {
    "colab": {
      "name": "alpha_RNNs.ipynb",
      "provenance": [],
      "toc_visible": true,
      "authorship_tag": "ABX9TyMB31b0KDZi0GPC8JQU23/8",
      "include_colab_link": true
    },
    "kernelspec": {
      "name": "python3",
      "display_name": "Python 3"
    },
    "language_info": {
      "name": "python"
    }
  },
  "cells": [
    {
      "cell_type": "markdown",
      "metadata": {
        "id": "view-in-github",
        "colab_type": "text"
      },
      "source": [
        "<a href=\"https://colab.research.google.com/github/ekat92/Book-Project-Econometrics-and-ML/blob/alpha_rnns/alpha_RNNs.ipynb\" target=\"_parent\"><img src=\"https://colab.research.google.com/assets/colab-badge.svg\" alt=\"Open In Colab\"/></a>"
      ]
    },
    {
      "cell_type": "code",
      "execution_count": 1,
      "metadata": {
        "id": "c99wjetY4Ucu"
      },
      "outputs": [],
      "source": [
        "# Alpha_RNNs-Bitcoin\n",
        "# Author: Chris Zhu\n",
        "# Version: 1.1 (17.12.2020)\n",
        "# License: MIT\n",
        "# Email: yzhu22@colby.edu\n",
        "# Notes: tested on Mac OS X with Python 3.6 and Tensorflow 1.3.0"
      ]
    },
    {
      "cell_type": "markdown",
      "source": [
        "## Overview\n",
        "This notebook provides a toy example for $\\alpha$-RNNs network to predict"
      ],
      "metadata": {
        "id": "-HE1jipw4jLw"
      }
    },
    {
      "cell_type": "code",
      "source": [
        ""
      ],
      "metadata": {
        "id": "fmDKlSx-4qHB"
      },
      "execution_count": null,
      "outputs": []
    },
    {
      "cell_type": "code",
      "source": [
        "import numpy as np\n",
        "import pandas as pd\n",
        "import math\n",
        "import matplotlib.pyplot as plt\n",
        "import statsmodels.api as sm\n",
        "import tensorflow as tf\n",
        "import statsmodels.api as sm\n",
        "import os\n",
        "\n",
        "from sklearn.metrics import mean_squared_error\n",
        "from sklearn.model_selection import KFold\n",
        "from sklearn.model_selection import TimeSeriesSplit\n",
        "from sklearn.metrics import mean_squared_error\n",
        "from sklearn.model_selection import train_test_split\n",
        "from sklearn.model_selection import KFold\n",
        "from sklearn.model_selection import cross_val_score\n",
        "from sklearn.model_selection import train_test_split\n",
        "from sklearn.model_selection import GridSearchCV\n",
        "\n",
        "from keras import optimizers\n",
        "from keras.callbacks import EarlyStopping\n",
        "from keras.models import Sequential\n",
        "from keras.models import load_model\n",
        "from keras.layers import Dense\n",
        "from keras.layers import Layer, LSTM, GRU, SimpleRNN\n",
        "from keras import optimizers\n",
        "from keras.regularizers import l1,l2\n",
        "from keras import regularizers\n",
        "from keras.wrappers.scikit_learn import KerasClassifier, KerasRegressor\n",
        "from keras.layers import Layer,RNN\n",
        "from keras import backend as K\n",
        "from keras import layers\n",
        "import keras.layers\n",
        "from keras.legacy import interfaces\n",
        "from keras import *\n",
        "# Custom classes for alpha-RNNs and alpha_t-RNNs\n",
        "from alphaRNN import *\n",
        "from alphatRNN import *"
      ],
      "metadata": {
        "id": "LlqsAXz74Yt3"
      },
      "execution_count": null,
      "outputs": []
    }
  ]
}